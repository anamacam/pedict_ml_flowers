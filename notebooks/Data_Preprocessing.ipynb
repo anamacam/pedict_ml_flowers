{
 "cells": [
  {
   "cell_type": "markdown",
   "metadata": {},
   "source": [
    "# Preprocesamiento de Datos de Flores\n",
    "\n",
    "**Objetivo:** Este notebook realiza los pasos iniciales de preprocesamiento para preparar los datos de planificación de flores y datos de resumen para análisis posteriores.\n",
    "\n",
    "**Pasos realizados:**\n",
    "1. Carga de datos desde un archivo Excel (`flor_2021_2024.xlsx`, hoja 'Planning').\n",
    "2. Carga de datos desde un archivo CSV (`Summary.csv`).\n",
    "3. Limpieza y estandarización de nombres de columnas.\n",
    "4. Unión (merge) de los dos conjuntos de datos en un DataFrame unificado (`df_merged`).\n",
    "5. Almacenamiento del DataFrame procesado en la carpeta `data/processed`."
   ]
  },
  {
   "cell_type": "code",
   "execution_count": 43,
   "metadata": {},
   "outputs": [
    {
     "name": "stdout",
     "output_type": "stream",
     "text": [
      "Librerías necesarias para el preprocesamiento cargadas.\n"
     ]
    }
   ],
   "source": [
    "# Configuración del entorno de Preprocesamiento\n",
    "# Importar las librerías necesarias para el preprocesamiento\n",
    "import pandas as pd\n",
    "import os\n",
    "\n",
    "# Para mostrar todas las columnas y filas en dataframes grandes (opcional, pero útil)\n",
    "pd.set_option('display.max_columns', None)\n",
    "pd.set_option('display.max_rows', 100)\n",
    "\n",
    "print(\"Librerías necesarias para el preprocesamiento cargadas.\")"
   ]
  },
  {
   "cell_type": "code",
   "execution_count": 25,
   "metadata": {},
   "outputs": [
    {
     "name": "stdout",
     "output_type": "stream",
     "text": [
      "Datos del archivo Excel:\n",
      "     DueDate        Flower     Color  Stems\n",
      "0 2021-03-21  Alstroemeria  Assorted    372\n",
      "1 2021-06-09  Alstroemeria  Assorted    480\n",
      "2 2022-08-03  Alstroemeria  Assorted    120\n",
      "3 2022-12-30  Alstroemeria  Assorted     50\n",
      "4 2023-03-30  Alstroemeria  Assorted    550\n",
      "\n",
      "Datos del archivo CSV:\n",
      "             Date;Flower;Color;Units Selection\n",
      "0      01/10/2024 0:00;Alstroemeria;Burgundy;0\n",
      "1  01/10/2024 0:00;Alstroemeria;DarkPink;11200\n",
      "2         01/10/2024 0:00;Alstroemeria;Green;0\n",
      "3   01/10/2024 0:00;Alstroemeria;Lavender;2400\n",
      "4     01/10/2024 0:00;Alstroemeria;Orange;6000\n"
     ]
    }
   ],
   "source": [
    "# Cargar el archivo Excel (se debe asegúrar de que 'openpyxl' esté instalado si es .xlsx)\n",
    "excel_file_path = r'C:\\Users\\User\\Desktop\\pedict_ml_flowers\\data\\flor_2021_2024.xlsx'\n",
    "df_excel = pd.read_excel(excel_file_path, sheet_name='Planning')\n",
    "\n",
    "# Mostrar las primeras filas del dataframe de Excel\n",
    "print(\"Datos del archivo Excel:\")\n",
    "print(df_excel.head())\n",
    "\n",
    "# Cargar el archivo CSV\n",
    "csv_file_path = r'C:\\Users\\User\\Desktop\\pedict_ml_flowers\\data\\Summary.csv'\n",
    "df_csv = pd.read_csv(csv_file_path)\n",
    "\n",
    "# Mostrar las primeras filas del dataframe CSV\n",
    "print(\"\\nDatos del archivo CSV:\")\n",
    "print(df_csv.head())\n"
   ]
  },
  {
   "cell_type": "code",
   "execution_count": 28,
   "metadata": {},
   "outputs": [
    {
     "name": "stdout",
     "output_type": "stream",
     "text": [
      "Número de columnas en df_csv antes de renombrar: 1\n",
      "\n",
      "Nombres de las columnas actuales de df_csv: Index(['Date;Flower;Color;Units Selection'], dtype='object')\n",
      "\n",
      "Primeras filas del df_csv (sin el .head()):\n",
      "                 Date;Flower;Color;Units Selection\n",
      "0          01/10/2024 0:00;Alstroemeria;Burgundy;0\n",
      "1      01/10/2024 0:00;Alstroemeria;DarkPink;11200\n",
      "2             01/10/2024 0:00;Alstroemeria;Green;0\n",
      "3       01/10/2024 0:00;Alstroemeria;Lavender;2400\n",
      "4         01/10/2024 0:00;Alstroemeria;Orange;6000\n",
      "...                                            ...\n",
      "12762       31/12/2024 0:00;Super Mums;Yellow;1250\n",
      "12763           31/12/2024 0:00;Treefern;Green;180\n",
      "12764           31/12/2024 0:00;Veronica;Pink;4350\n",
      "12765         31/12/2024 0:00;Veronica;Purple;5550\n",
      "12766           31/12/2024 0:00;Veronica;White;150\n",
      "\n",
      "[12767 rows x 1 columns]\n"
     ]
    }
   ],
   "source": [
    "# Imprimir información sobre las columnas actuales de df_csv\n",
    "print(\"Número de columnas en df_csv antes de renombrar:\", len(df_csv.columns))\n",
    "print(\"\\nNombres de las columnas actuales de df_csv:\", df_csv.columns)\n",
    "\n",
    "# Imprimir algunas filas del df_csv para inspeccionar el contenido\n",
    "print(\"\\nPrimeras filas del df_csv (sin el .head()):\")\n",
    "print(df_csv)"
   ]
  },
  {
   "cell_type": "code",
   "execution_count": 29,
   "metadata": {},
   "outputs": [
    {
     "name": "stdout",
     "output_type": "stream",
     "text": [
      "\n",
      "Datos del archivo CSV con columnas renombradas:\n",
      "           DueDate        Flower     Color  Stems\n",
      "0  01/10/2024 0:00  Alstroemeria  Burgundy      0\n",
      "1  01/10/2024 0:00  Alstroemeria  DarkPink  11200\n",
      "2  01/10/2024 0:00  Alstroemeria     Green      0\n",
      "3  01/10/2024 0:00  Alstroemeria  Lavender   2400\n",
      "4  01/10/2024 0:00  Alstroemeria    Orange   6000\n",
      "\n",
      "Información del DataFrame df_csv:\n",
      "<class 'pandas.core.frame.DataFrame'>\n",
      "RangeIndex: 12767 entries, 0 to 12766\n",
      "Data columns (total 4 columns):\n",
      " #   Column   Non-Null Count  Dtype \n",
      "---  ------   --------------  ----- \n",
      " 0   DueDate  12767 non-null  object\n",
      " 1   Flower   12767 non-null  object\n",
      " 2   Color    12767 non-null  object\n",
      " 3   Stems    12767 non-null  int64 \n",
      "dtypes: int64(1), object(3)\n",
      "memory usage: 399.1+ KB\n",
      "None\n"
     ]
    }
   ],
   "source": [
    "# Cargar el archivo CSV especificando el separador correcto\n",
    "csv_file_path = r'C:\\Users\\User\\Desktop\\pedict_ml_flowers\\data\\Summary.csv'\n",
    "df_csv = pd.read_csv(csv_file_path, sep=';')  # ¡Especificamos el separador(separador por defecto es ,)!\n",
    "\n",
    "# Renombrar las columnas\n",
    "df_csv.columns = ['DueDate', 'Flower', 'Color', 'Stems']\n",
    "\n",
    "# Mostrar las primeras filas del DataFrame para verificar los cambios\n",
    "print(\"\\nDatos del archivo CSV con columnas renombradas:\")\n",
    "print(df_csv.head())\n",
    "\n",
    "# Imprimir información del DataFrame para verificar los tipos de datos\n",
    "print(\"\\nInformación del DataFrame df_csv:\")\n",
    "print(df_csv.info())"
   ]
  },
  {
   "cell_type": "code",
   "execution_count": 31,
   "metadata": {},
   "outputs": [
    {
     "name": "stdout",
     "output_type": "stream",
     "text": [
      "Columnas en df_excel:\n",
      "Index([' DueDate', 'Flower', 'Color', 'Stems'], dtype='object')\n",
      "\n",
      "Columnas en df_csv:\n",
      "Index(['DueDate', 'Flower', 'Color', 'Stems'], dtype='object')\n"
     ]
    }
   ],
   "source": [
    "# Mostrar los nombres de las columnas de df_excel\n",
    "print(\"Columnas en df_excel:\")\n",
    "print(df_excel.columns)\n",
    "\n",
    "# Mostrar los nombres de las columnas de df_csv\n",
    "print(\"\\nColumnas en df_csv:\")\n",
    "print(df_csv.columns)"
   ]
  },
  {
   "cell_type": "code",
   "execution_count": 34,
   "metadata": {},
   "outputs": [
    {
     "name": "stdout",
     "output_type": "stream",
     "text": [
      "Tipo de dato de 'DueDate' en df_excel: datetime64[ns]\n",
      "Tipo de dato de 'DueDate' en df_csv: object\n"
     ]
    }
   ],
   "source": [
    "# Verificar el tipo de dato de la columna 'DueDate' en df_excel\n",
    "print(\"Tipo de dato de 'DueDate' en df_excel:\", df_excel['DueDate'].dtype)\n",
    "\n",
    "# Verificar el tipo de dato de la columna 'DueDate' en df_csv\n",
    "print(\"Tipo de dato de 'DueDate' en df_csv:\", df_csv['DueDate'].dtype)"
   ]
  },
  {
   "cell_type": "code",
   "execution_count": 37,
   "metadata": {},
   "outputs": [
    {
     "name": "stdout",
     "output_type": "stream",
     "text": [
      "\n",
      "Primeras filas del DataFrame unido (df_merged):\n",
      "     DueDate Flower         Color_x  Stems_x         Color_y  Stems_y\n",
      "0 2024-10-01  Daisy  Bicolor Bronze    10025        Assorted     1750\n",
      "1 2024-10-01  Daisy  Bicolor Bronze    10025  Bicolor Bronze    16100\n",
      "2 2024-10-01  Daisy  Bicolor Bronze    10025          Bronze     9250\n",
      "3 2024-10-01  Daisy  Bicolor Bronze    10025        DarkPink     4651\n",
      "4 2024-10-01  Daisy  Bicolor Bronze    10025        Lavender    21032\n",
      "\n",
      "Información del DataFrame unido (df_merged):\n",
      "<class 'pandas.core.frame.DataFrame'>\n",
      "RangeIndex: 51043 entries, 0 to 51042\n",
      "Data columns (total 6 columns):\n",
      " #   Column   Non-Null Count  Dtype         \n",
      "---  ------   --------------  -----         \n",
      " 0   DueDate  51043 non-null  datetime64[ns]\n",
      " 1   Flower   51043 non-null  object        \n",
      " 2   Color_x  51043 non-null  object        \n",
      " 3   Stems_x  51043 non-null  int64         \n",
      " 4   Color_y  51043 non-null  object        \n",
      " 5   Stems_y  51043 non-null  int64         \n",
      "dtypes: datetime64[ns](1), int64(2), object(3)\n",
      "memory usage: 2.3+ MB\n",
      "None\n"
     ]
    }
   ],
   "source": [
    "# Convertir la columna 'DueDate' en df_csv al tipo datetime, especificando el formato día/mes/año\n",
    "df_csv['DueDate'] = pd.to_datetime(df_csv['DueDate'], dayfirst=True)\n",
    "\n",
    "# Realizar un inner join basado en las columnas 'Flower' y 'DueDate'\n",
    "df_merged = pd.merge(df_excel, df_csv, on=['Flower', 'DueDate'], how='inner')\n",
    "\n",
    "# Mostrar las primeras filas del DataFrame unido\n",
    "print(\"\\nPrimeras filas del DataFrame unido (df_merged):\")\n",
    "print(df_merged.head())\n",
    "\n",
    "# Mostrar información del DataFrame unido\n",
    "print(\"\\nInformación del DataFrame unido (df_merged):\")\n",
    "print(df_merged.info())"
   ]
  },
  {
   "cell_type": "code",
   "execution_count": 40,
   "metadata": {},
   "outputs": [
    {
     "name": "stdout",
     "output_type": "stream",
     "text": [
      "Nuevo DataFrame creado (copia de df_merged):\n",
      "     DueDate Flower         Color_x  Stems_x         Color_y  Stems_y\n",
      "0 2024-10-01  Daisy  Bicolor Bronze    10025        Assorted     1750\n",
      "1 2024-10-01  Daisy  Bicolor Bronze    10025  Bicolor Bronze    16100\n",
      "2 2024-10-01  Daisy  Bicolor Bronze    10025          Bronze     9250\n",
      "3 2024-10-01  Daisy  Bicolor Bronze    10025        DarkPink     4651\n",
      "4 2024-10-01  Daisy  Bicolor Bronze    10025        Lavender    21032\n"
     ]
    }
   ],
   "source": [
    "# Crear un nuevo DataFrame como copia de df_merged\n",
    "df_nuevo = df_merged.copy()\n",
    "\n",
    "# Mostrar las primeras filas del nuevo DataFrame para verificar\n",
    "print(\"Nuevo DataFrame creado (copia de df_merged):\")\n",
    "print(df_nuevo.head())\n",
    "\n",
    "# Verificar que los DataFrames son independientes (opcional)\n",
    "# Modificar el nuevo DataFrame\n",
    "# df_nuevo.loc[0, 'AlgunaColumna'] = 'nuevo_valor' \n",
    "# print(\"\\nDataFrame original df_merged después de modificar la copia:\")\n",
    "# print(df_merged.head()) "
   ]
  },
  {
   "cell_type": "code",
   "execution_count": 41,
   "metadata": {},
   "outputs": [
    {
     "name": "stdout",
     "output_type": "stream",
     "text": [
      "DataFrame df_merged guardado en: ../data/processed\\merged_data.csv\n"
     ]
    }
   ],
   "source": [
    "# Asegúrate de que df_merged existe\n",
    "if 'df_merged' in locals():\n",
    "    # Define la ruta de salida\n",
    "    processed_dir = '../data/processed'\n",
    "    output_file_path = os.path.join(processed_dir, 'merged_data.csv')\n",
    "\n",
    "    # Crea el directorio si no existe (por si acaso)\n",
    "    os.makedirs(processed_dir, exist_ok=True)\n",
    "\n",
    "    # Guarda el DataFrame\n",
    "    df_merged.to_csv(output_file_path, index=False)\n",
    "    print(f\"DataFrame df_merged guardado en: {output_file_path}\")\n",
    "else:\n",
    "    print(\"Error: El DataFrame df_merged no existe en la sesión actual.\")"
   ]
  },
  {
   "cell_type": "markdown",
   "metadata": {},
   "source": [
    "## Resumen del Preprocesamiento\n",
    "\n",
    "En este notebook, se completaron los siguientes pasos de preparación de datos:\n",
    "\n",
    "- **Se cargaron** los datos de planificación desde `flor_2021_2024.xlsx` y los datos de resumen desde `Summary.csv`.\n",
    "- **Se corrigió** el problema de separación en el archivo CSV y **se renombraron** las columnas para mayor claridad (`DueDate`, `Flower`, `Color`, `Stems`).\n",
    "- **Se unieron** los dos DataFrames (`df_excel` y `df_csv`) en un único DataFrame (`df_merged`) basado en las columnas `Flower` y `DueDate`.\n",
    "- **Se creó** una copia del DataFrame unido (`merged_data`).\n",
    "- **Se guardó** el DataFrame procesado (`df_merged`) en `data/processed/merged_data.csv` y el `merged_data` en `data/processed/merged_data.csv` utilizando una función auxiliar para automatizar el guardado.\n",
    "\n",
    "Los datos ahora están limpios, unificados y listos para las siguientes etapas de análisis exploratorio o modelado."
   ]
  }
 ],
 "metadata": {
  "kernelspec": {
   "display_name": "venv",
   "language": "python",
   "name": "python3"
  },
  "language_info": {
   "codemirror_mode": {
    "name": "ipython",
    "version": 3
   },
   "file_extension": ".py",
   "mimetype": "text/x-python",
   "name": "python",
   "nbconvert_exporter": "python",
   "pygments_lexer": "ipython3",
   "version": "3.12.5"
  }
 },
 "nbformat": 4,
 "nbformat_minor": 2
}
